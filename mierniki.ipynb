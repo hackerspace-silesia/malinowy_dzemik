{
 "cells": [
  {
   "cell_type": "markdown",
   "metadata": {},
   "source": [
    "# Mierniki\n",
    "\n",
    "### DHT11 \n",
    "http://botland.com.pl/index.php?controller=attachment&id_attachment=251\n",
    "https://www.modmypi.com/download/range_sensor.py\n",
    "\n",
    "### HC-SR04\n",
    "http://botland.com.pl/index.php?controller=attachment&id_attachment=476\n",
    "\n",
    "### BerryIMU\n",
    "http://ozzmaker.com/product/berryimu-accelerometer-gyroscope-magnetometer-barometricaltitude-sensor/\n",
    "\n",
    "### BMP180\n",
    "http://botland.com.pl/index.php?controller=attachment&id_attachment=571\n",
    "\n",
    "### TSL2561\n",
    "https://github.com/sparkfun/TSL2561_Luminosity_Sensor_BOB\n",
    "\n"
   ]
  },
  {
   "cell_type": "code",
   "execution_count": null,
   "metadata": {
    "collapsed": true
   },
   "outputs": [],
   "source": []
  }
 ],
 "metadata": {
  "kernelspec": {
   "display_name": "Python 2",
   "language": "python",
   "name": "python2"
  },
  "language_info": {
   "codemirror_mode": {
    "name": "ipython",
    "version": 2
   },
   "file_extension": ".py",
   "mimetype": "text/x-python",
   "name": "python",
   "nbconvert_exporter": "python",
   "pygments_lexer": "ipython2",
   "version": "2.7.10"
  }
 },
 "nbformat": 4,
 "nbformat_minor": 0
}
