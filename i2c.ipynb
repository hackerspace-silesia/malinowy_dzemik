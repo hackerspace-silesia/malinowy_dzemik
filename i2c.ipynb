{
 "cells": [
  {
   "cell_type": "markdown",
   "metadata": {},
   "source": [
    "# I2C\n",
    "\n",
    "\n",
    "### Włączenie\n",
    "\n",
    "```bash\n",
    "sudo raspi-config\n",
    "# Advanced Options -> A7 I2C\n",
    "```\n",
    "\n",
    "### Instalowanie paczek\n",
    "\n",
    "```bash\n",
    "sudo apt-get install python-smbus i2c-tools\n",
    "```\n",
    "\n",
    "### Używanie: konsola\n",
    "\n",
    "```bash\n",
    "i2cdetect -y 1 # pokazuje co jest dostepne na porcie nr 1\n",
    "i2cget  -y 1 0x0a # oczytuje wartość z adresu 0x0a na porcie 1\n",
    "```\n",
    "\n",
    "### Używanie: python\n",
    "#### Dokumentacja: \n",
    "[http://wiki.erazor-zone.de/wiki:linux:python:smbus:doc](http://wiki.erazor-zone.de/wiki:linux:python:smbus:doc)\n",
    "\n",
    "```python\n",
    "import smbus\n",
    "\n",
    "bus = smbus.SMBus(1)\n",
    "bus.read_byte(0x0a)\n",
    "```"
   ]
  },
  {
   "cell_type": "code",
   "execution_count": null,
   "metadata": {
    "collapsed": true
   },
   "outputs": [],
   "source": []
  }
 ],
 "metadata": {
  "kernelspec": {
   "display_name": "Python 2",
   "language": "python",
   "name": "python2"
  },
  "language_info": {
   "codemirror_mode": {
    "name": "ipython",
    "version": 2
   },
   "file_extension": ".py",
   "mimetype": "text/x-python",
   "name": "python",
   "nbconvert_exporter": "python",
   "pygments_lexer": "ipython2",
   "version": "2.7.10"
  }
 },
 "nbformat": 4,
 "nbformat_minor": 0
}
